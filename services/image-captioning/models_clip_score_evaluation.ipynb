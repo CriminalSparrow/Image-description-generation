{
 "cells": [
  {
   "cell_type": "markdown",
   "metadata": {},
   "source": [
    "## Datasets init"
   ]
  },
  {
   "cell_type": "code",
   "execution_count": 88,
   "metadata": {
    "execution": {
     "iopub.execute_input": "2025-06-25T00:44:47.463727Z",
     "iopub.status.busy": "2025-06-25T00:44:47.463198Z",
     "iopub.status.idle": "2025-06-25T00:44:47.468426Z",
     "shell.execute_reply": "2025-06-25T00:44:47.467860Z",
     "shell.execute_reply.started": "2025-06-25T00:44:47.463703Z"
    },
    "trusted": true
   },
   "outputs": [
    {
     "name": "stdout",
     "output_type": "stream",
     "text": [
      "Примеры изображений: ['000000001739.jpg', '000000001993.jpg', '000000001425.jpg', '000000000974.jpg', '000000006870.jpg']\n"
     ]
    }
   ],
   "source": [
    "dataset_path = \"/kaggle/input/part-of-coco-dataset/\"\n",
    "\n",
    "image_files = os.listdir(dataset_path)\n",
    "\n",
    "# Вывод первых 5 файлов\n",
    "print(\"Примеры изображений:\", image_files[:5])"
   ]
  },
  {
   "cell_type": "code",
   "execution_count": 1,
   "metadata": {
    "execution": {
     "iopub.execute_input": "2025-06-25T01:35:28.028309Z",
     "iopub.status.busy": "2025-06-25T01:35:28.028113Z",
     "iopub.status.idle": "2025-06-25T01:35:29.212534Z",
     "shell.execute_reply": "2025-06-25T01:35:29.211895Z",
     "shell.execute_reply.started": "2025-06-25T01:35:28.028291Z"
    },
    "trusted": true
   },
   "outputs": [
    {
     "name": "stdout",
     "output_type": "stream",
     "text": [
      "Path to dataset files: /kaggle/input/anime-vs-cartoon-vs-human\n"
     ]
    }
   ],
   "source": [
    "import kagglehub\n",
    "\n",
    "# Download latest version\n",
    "path = kagglehub.dataset_download(\"hadiepratamatulili/anime-vs-cartoon-vs-human\")\n",
    "\n",
    "print(\"Path to dataset files:\", path)"
   ]
  },
  {
   "cell_type": "markdown",
   "metadata": {},
   "source": [
    "## CLIP init"
   ]
  },
  {
   "cell_type": "code",
   "execution_count": 1,
   "metadata": {
    "execution": {
     "iopub.execute_input": "2025-06-25T02:31:25.155596Z",
     "iopub.status.busy": "2025-06-25T02:31:25.155433Z",
     "iopub.status.idle": "2025-06-25T02:32:50.942067Z",
     "shell.execute_reply": "2025-06-25T02:32:50.941317Z",
     "shell.execute_reply.started": "2025-06-25T02:31:25.155581Z"
    },
    "trusted": true
   },
   "outputs": [
    {
     "name": "stdout",
     "output_type": "stream",
     "text": [
      "Collecting git+https://github.com/openai/CLIP.git\n",
      "  Cloning https://github.com/openai/CLIP.git to /tmp/pip-req-build-fqqutjh8\n",
      "  Running command git clone --filter=blob:none --quiet https://github.com/openai/CLIP.git /tmp/pip-req-build-fqqutjh8\n",
      "  Resolved https://github.com/openai/CLIP.git to commit dcba3cb2e2827b402d2701e7e1c7d9fed8a20ef1\n",
      "  Preparing metadata (setup.py) ... \u001b[?25l\u001b[?25hdone\n",
      "Collecting ftfy (from clip==1.0)\n",
      "  Downloading ftfy-6.3.1-py3-none-any.whl.metadata (7.3 kB)\n",
      "Requirement already satisfied: packaging in /usr/local/lib/python3.11/dist-packages (from clip==1.0) (25.0)\n",
      "Requirement already satisfied: regex in /usr/local/lib/python3.11/dist-packages (from clip==1.0) (2024.11.6)\n",
      "Requirement already satisfied: tqdm in /usr/local/lib/python3.11/dist-packages (from clip==1.0) (4.67.1)\n",
      "Requirement already satisfied: torch in /usr/local/lib/python3.11/dist-packages (from clip==1.0) (2.6.0+cu124)\n",
      "Requirement already satisfied: torchvision in /usr/local/lib/python3.11/dist-packages (from clip==1.0) (0.21.0+cu124)\n",
      "Requirement already satisfied: wcwidth in /usr/local/lib/python3.11/dist-packages (from ftfy->clip==1.0) (0.2.13)\n",
      "Requirement already satisfied: filelock in /usr/local/lib/python3.11/dist-packages (from torch->clip==1.0) (3.18.0)\n",
      "Requirement already satisfied: typing-extensions>=4.10.0 in /usr/local/lib/python3.11/dist-packages (from torch->clip==1.0) (4.13.2)\n",
      "Requirement already satisfied: networkx in /usr/local/lib/python3.11/dist-packages (from torch->clip==1.0) (3.4.2)\n",
      "Requirement already satisfied: jinja2 in /usr/local/lib/python3.11/dist-packages (from torch->clip==1.0) (3.1.6)\n",
      "Requirement already satisfied: fsspec in /usr/local/lib/python3.11/dist-packages (from torch->clip==1.0) (2025.3.2)\n",
      "Requirement already satisfied: nvidia-cuda-nvrtc-cu12==12.4.127 in /usr/local/lib/python3.11/dist-packages (from torch->clip==1.0) (12.4.127)\n",
      "Requirement already satisfied: nvidia-cuda-runtime-cu12==12.4.127 in /usr/local/lib/python3.11/dist-packages (from torch->clip==1.0) (12.4.127)\n",
      "Requirement already satisfied: nvidia-cuda-cupti-cu12==12.4.127 in /usr/local/lib/python3.11/dist-packages (from torch->clip==1.0) (12.4.127)\n",
      "Collecting nvidia-cudnn-cu12==9.1.0.70 (from torch->clip==1.0)\n",
      "  Downloading nvidia_cudnn_cu12-9.1.0.70-py3-none-manylinux2014_x86_64.whl.metadata (1.6 kB)\n",
      "Collecting nvidia-cublas-cu12==12.4.5.8 (from torch->clip==1.0)\n",
      "  Downloading nvidia_cublas_cu12-12.4.5.8-py3-none-manylinux2014_x86_64.whl.metadata (1.5 kB)\n",
      "Collecting nvidia-cufft-cu12==11.2.1.3 (from torch->clip==1.0)\n",
      "  Downloading nvidia_cufft_cu12-11.2.1.3-py3-none-manylinux2014_x86_64.whl.metadata (1.5 kB)\n",
      "Collecting nvidia-curand-cu12==10.3.5.147 (from torch->clip==1.0)\n",
      "  Downloading nvidia_curand_cu12-10.3.5.147-py3-none-manylinux2014_x86_64.whl.metadata (1.5 kB)\n",
      "Collecting nvidia-cusolver-cu12==11.6.1.9 (from torch->clip==1.0)\n",
      "  Downloading nvidia_cusolver_cu12-11.6.1.9-py3-none-manylinux2014_x86_64.whl.metadata (1.6 kB)\n",
      "Collecting nvidia-cusparse-cu12==12.3.1.170 (from torch->clip==1.0)\n",
      "  Downloading nvidia_cusparse_cu12-12.3.1.170-py3-none-manylinux2014_x86_64.whl.metadata (1.6 kB)\n",
      "Requirement already satisfied: nvidia-cusparselt-cu12==0.6.2 in /usr/local/lib/python3.11/dist-packages (from torch->clip==1.0) (0.6.2)\n",
      "Requirement already satisfied: nvidia-nccl-cu12==2.21.5 in /usr/local/lib/python3.11/dist-packages (from torch->clip==1.0) (2.21.5)\n",
      "Requirement already satisfied: nvidia-nvtx-cu12==12.4.127 in /usr/local/lib/python3.11/dist-packages (from torch->clip==1.0) (12.4.127)\n",
      "Collecting nvidia-nvjitlink-cu12==12.4.127 (from torch->clip==1.0)\n",
      "  Downloading nvidia_nvjitlink_cu12-12.4.127-py3-none-manylinux2014_x86_64.whl.metadata (1.5 kB)\n",
      "Requirement already satisfied: triton==3.2.0 in /usr/local/lib/python3.11/dist-packages (from torch->clip==1.0) (3.2.0)\n",
      "Requirement already satisfied: sympy==1.13.1 in /usr/local/lib/python3.11/dist-packages (from torch->clip==1.0) (1.13.1)\n",
      "Requirement already satisfied: mpmath<1.4,>=1.1.0 in /usr/local/lib/python3.11/dist-packages (from sympy==1.13.1->torch->clip==1.0) (1.3.0)\n",
      "Requirement already satisfied: numpy in /usr/local/lib/python3.11/dist-packages (from torchvision->clip==1.0) (1.26.4)\n",
      "Requirement already satisfied: pillow!=8.3.*,>=5.3.0 in /usr/local/lib/python3.11/dist-packages (from torchvision->clip==1.0) (11.1.0)\n",
      "Requirement already satisfied: MarkupSafe>=2.0 in /usr/local/lib/python3.11/dist-packages (from jinja2->torch->clip==1.0) (3.0.2)\n",
      "Requirement already satisfied: mkl_fft in /usr/local/lib/python3.11/dist-packages (from numpy->torchvision->clip==1.0) (1.3.8)\n",
      "Requirement already satisfied: mkl_random in /usr/local/lib/python3.11/dist-packages (from numpy->torchvision->clip==1.0) (1.2.4)\n",
      "Requirement already satisfied: mkl_umath in /usr/local/lib/python3.11/dist-packages (from numpy->torchvision->clip==1.0) (0.1.1)\n",
      "Requirement already satisfied: mkl in /usr/local/lib/python3.11/dist-packages (from numpy->torchvision->clip==1.0) (2025.1.0)\n",
      "Requirement already satisfied: tbb4py in /usr/local/lib/python3.11/dist-packages (from numpy->torchvision->clip==1.0) (2022.1.0)\n",
      "Requirement already satisfied: mkl-service in /usr/local/lib/python3.11/dist-packages (from numpy->torchvision->clip==1.0) (2.4.1)\n",
      "Requirement already satisfied: intel-openmp<2026,>=2024 in /usr/local/lib/python3.11/dist-packages (from mkl->numpy->torchvision->clip==1.0) (2024.2.0)\n",
      "Requirement already satisfied: tbb==2022.* in /usr/local/lib/python3.11/dist-packages (from mkl->numpy->torchvision->clip==1.0) (2022.1.0)\n",
      "Requirement already satisfied: tcmlib==1.* in /usr/local/lib/python3.11/dist-packages (from tbb==2022.*->mkl->numpy->torchvision->clip==1.0) (1.3.0)\n",
      "Requirement already satisfied: intel-cmplr-lib-rt in /usr/local/lib/python3.11/dist-packages (from mkl_umath->numpy->torchvision->clip==1.0) (2024.2.0)\n",
      "Requirement already satisfied: intel-cmplr-lib-ur==2024.2.0 in /usr/local/lib/python3.11/dist-packages (from intel-openmp<2026,>=2024->mkl->numpy->torchvision->clip==1.0) (2024.2.0)\n",
      "Downloading ftfy-6.3.1-py3-none-any.whl (44 kB)\n",
      "\u001b[2K   \u001b[90m━━━━━━━━━━━━━━━━━━━━━━━━━━━━━━━━━━━━━━━━\u001b[0m \u001b[32m44.8/44.8 kB\u001b[0m \u001b[31m2.2 MB/s\u001b[0m eta \u001b[36m0:00:00\u001b[0m\n",
      "\u001b[?25hDownloading nvidia_cublas_cu12-12.4.5.8-py3-none-manylinux2014_x86_64.whl (363.4 MB)\n",
      "\u001b[2K   \u001b[90m━━━━━━━━━━━━━━━━━━━━━━━━━━━━━━━━━━━━━━━━\u001b[0m \u001b[32m363.4/363.4 MB\u001b[0m \u001b[31m4.7 MB/s\u001b[0m eta \u001b[36m0:00:00\u001b[0m0:00:01\u001b[0m00:01\u001b[0m\n",
      "\u001b[?25hDownloading nvidia_cudnn_cu12-9.1.0.70-py3-none-manylinux2014_x86_64.whl (664.8 MB)\n",
      "\u001b[2K   \u001b[90m━━━━━━━━━━━━━━━━━━━━━━━━━━━━━━━━━━━━━━━━\u001b[0m \u001b[32m664.8/664.8 MB\u001b[0m \u001b[31m2.4 MB/s\u001b[0m eta \u001b[36m0:00:00\u001b[0m0:00:01\u001b[0m00:01\u001b[0m\n",
      "\u001b[?25hDownloading nvidia_cufft_cu12-11.2.1.3-py3-none-manylinux2014_x86_64.whl (211.5 MB)\n",
      "\u001b[2K   \u001b[90m━━━━━━━━━━━━━━━━━━━━━━━━━━━━━━━━━━━━━━━━\u001b[0m \u001b[32m211.5/211.5 MB\u001b[0m \u001b[31m7.6 MB/s\u001b[0m eta \u001b[36m0:00:00\u001b[0m0:00:01\u001b[0m00:01\u001b[0m\n",
      "\u001b[?25hDownloading nvidia_curand_cu12-10.3.5.147-py3-none-manylinux2014_x86_64.whl (56.3 MB)\n",
      "\u001b[2K   \u001b[90m━━━━━━━━━━━━━━━━━━━━━━━━━━━━━━━━━━━━━━━━\u001b[0m \u001b[32m56.3/56.3 MB\u001b[0m \u001b[31m3.3 MB/s\u001b[0m eta \u001b[36m0:00:00\u001b[0m0:00:01\u001b[0m00:01\u001b[0m\n",
      "\u001b[?25hDownloading nvidia_cusolver_cu12-11.6.1.9-py3-none-manylinux2014_x86_64.whl (127.9 MB)\n",
      "\u001b[2K   \u001b[90m━━━━━━━━━━━━━━━━━━━━━━━━━━━━━━━━━━━━━━━━\u001b[0m \u001b[32m127.9/127.9 MB\u001b[0m \u001b[31m5.2 MB/s\u001b[0m eta \u001b[36m0:00:00\u001b[0m0:00:01\u001b[0m00:01\u001b[0m\n",
      "\u001b[?25hDownloading nvidia_cusparse_cu12-12.3.1.170-py3-none-manylinux2014_x86_64.whl (207.5 MB)\n",
      "\u001b[2K   \u001b[90m━━━━━━━━━━━━━━━━━━━━━━━━━━━━━━━━━━━━━━━━\u001b[0m \u001b[32m207.5/207.5 MB\u001b[0m \u001b[31m8.1 MB/s\u001b[0m eta \u001b[36m0:00:00\u001b[0m0:00:01\u001b[0m00:01\u001b[0m\n",
      "\u001b[?25hDownloading nvidia_nvjitlink_cu12-12.4.127-py3-none-manylinux2014_x86_64.whl (21.1 MB)\n",
      "\u001b[2K   \u001b[90m━━━━━━━━━━━━━━━━━━━━━━━━━━━━━━━━━━━━━━━━\u001b[0m \u001b[32m21.1/21.1 MB\u001b[0m \u001b[31m86.7 MB/s\u001b[0m eta \u001b[36m0:00:00\u001b[0m:00:01\u001b[0m00:01\u001b[0m\n",
      "\u001b[?25hBuilding wheels for collected packages: clip\n",
      "  Building wheel for clip (setup.py) ... \u001b[?25l\u001b[?25hdone\n",
      "  Created wheel for clip: filename=clip-1.0-py3-none-any.whl size=1369490 sha256=70887adf8e4ba742d519eb08a2c278842171923aca094c914e335cf484428046\n",
      "  Stored in directory: /tmp/pip-ephem-wheel-cache-tlz2dzxg/wheels/3f/7c/a4/9b490845988bf7a4db33674d52f709f088f64392063872eb9a\n",
      "Successfully built clip\n",
      "Installing collected packages: nvidia-nvjitlink-cu12, nvidia-curand-cu12, nvidia-cufft-cu12, nvidia-cublas-cu12, ftfy, nvidia-cusparse-cu12, nvidia-cudnn-cu12, nvidia-cusolver-cu12, clip\n",
      "  Attempting uninstall: nvidia-nvjitlink-cu12\n",
      "    Found existing installation: nvidia-nvjitlink-cu12 12.9.41\n",
      "    Uninstalling nvidia-nvjitlink-cu12-12.9.41:\n",
      "      Successfully uninstalled nvidia-nvjitlink-cu12-12.9.41\n",
      "  Attempting uninstall: nvidia-curand-cu12\n",
      "    Found existing installation: nvidia-curand-cu12 10.3.10.19\n",
      "    Uninstalling nvidia-curand-cu12-10.3.10.19:\n",
      "      Successfully uninstalled nvidia-curand-cu12-10.3.10.19\n",
      "  Attempting uninstall: nvidia-cufft-cu12\n",
      "    Found existing installation: nvidia-cufft-cu12 11.4.0.6\n",
      "    Uninstalling nvidia-cufft-cu12-11.4.0.6:\n",
      "      Successfully uninstalled nvidia-cufft-cu12-11.4.0.6\n",
      "  Attempting uninstall: nvidia-cublas-cu12\n",
      "    Found existing installation: nvidia-cublas-cu12 12.9.0.13\n",
      "    Uninstalling nvidia-cublas-cu12-12.9.0.13:\n",
      "      Successfully uninstalled nvidia-cublas-cu12-12.9.0.13\n",
      "  Attempting uninstall: nvidia-cusparse-cu12\n",
      "    Found existing installation: nvidia-cusparse-cu12 12.5.9.5\n",
      "    Uninstalling nvidia-cusparse-cu12-12.5.9.5:\n",
      "      Successfully uninstalled nvidia-cusparse-cu12-12.5.9.5\n",
      "  Attempting uninstall: nvidia-cudnn-cu12\n",
      "    Found existing installation: nvidia-cudnn-cu12 9.3.0.75\n",
      "    Uninstalling nvidia-cudnn-cu12-9.3.0.75:\n",
      "      Successfully uninstalled nvidia-cudnn-cu12-9.3.0.75\n",
      "  Attempting uninstall: nvidia-cusolver-cu12\n",
      "    Found existing installation: nvidia-cusolver-cu12 11.7.4.40\n",
      "    Uninstalling nvidia-cusolver-cu12-11.7.4.40:\n",
      "      Successfully uninstalled nvidia-cusolver-cu12-11.7.4.40\n",
      "Successfully installed clip-1.0 ftfy-6.3.1 nvidia-cublas-cu12-12.4.5.8 nvidia-cudnn-cu12-9.1.0.70 nvidia-cufft-cu12-11.2.1.3 nvidia-curand-cu12-10.3.5.147 nvidia-cusolver-cu12-11.6.1.9 nvidia-cusparse-cu12-12.3.1.170 nvidia-nvjitlink-cu12-12.4.127\n",
      "Note: you may need to restart the kernel to use updated packages.\n"
     ]
    }
   ],
   "source": [
    "pip install git+https://github.com/openai/CLIP.git"
   ]
  },
  {
   "cell_type": "code",
   "execution_count": 2,
   "metadata": {
    "execution": {
     "iopub.execute_input": "2025-06-25T02:32:50.944071Z",
     "iopub.status.busy": "2025-06-25T02:32:50.943836Z",
     "iopub.status.idle": "2025-06-25T02:33:18.629444Z",
     "shell.execute_reply": "2025-06-25T02:33:18.628639Z",
     "shell.execute_reply.started": "2025-06-25T02:32:50.944047Z"
    },
    "trusted": true
   },
   "outputs": [
    {
     "name": "stderr",
     "output_type": "stream",
     "text": [
      "2025-06-25 02:33:03.576991: E external/local_xla/xla/stream_executor/cuda/cuda_fft.cc:477] Unable to register cuFFT factory: Attempting to register factory for plugin cuFFT when one has already been registered\n",
      "WARNING: All log messages before absl::InitializeLog() is called are written to STDERR\n",
      "E0000 00:00:1750818783.831301      35 cuda_dnn.cc:8310] Unable to register cuDNN factory: Attempting to register factory for plugin cuDNN when one has already been registered\n",
      "E0000 00:00:1750818783.902652      35 cuda_blas.cc:1418] Unable to register cuBLAS factory: Attempting to register factory for plugin cuBLAS when one has already been registered\n"
     ]
    }
   ],
   "source": [
    "import torch\n",
    "import clip\n",
    "from PIL import Image\n",
    "from tqdm import tqdm\n",
    "from datasets import load_dataset\n",
    "from transformers import AutoProcessor, AutoModelForCausalLM\n",
    "import numpy as np\n",
    "import time"
   ]
  },
  {
   "cell_type": "code",
   "execution_count": 3,
   "metadata": {
    "execution": {
     "iopub.execute_input": "2025-06-25T02:33:18.631078Z",
     "iopub.status.busy": "2025-06-25T02:33:18.630354Z",
     "iopub.status.idle": "2025-06-25T02:33:30.436682Z",
     "shell.execute_reply": "2025-06-25T02:33:30.436122Z",
     "shell.execute_reply.started": "2025-06-25T02:33:18.631048Z"
    },
    "trusted": true
   },
   "outputs": [
    {
     "name": "stderr",
     "output_type": "stream",
     "text": [
      "100%|███████████████████████████████████████| 338M/338M [00:06<00:00, 51.4MiB/s]\n"
     ]
    }
   ],
   "source": [
    "device = \"cuda\" if torch.cuda.is_available() else \"cpu\"\n",
    "\n",
    "# Модель CLIP для оценки\n",
    "clip_model, clip_preprocess = clip.load(\"ViT-B/32\", device=device)"
   ]
  },
  {
   "cell_type": "markdown",
   "metadata": {},
   "source": [
    "## Florence-2-Large"
   ]
  },
  {
   "cell_type": "code",
   "execution_count": 4,
   "metadata": {
    "execution": {
     "iopub.execute_input": "2025-06-25T01:39:34.019438Z",
     "iopub.status.busy": "2025-06-25T01:39:34.019248Z",
     "iopub.status.idle": "2025-06-25T01:45:32.670817Z",
     "shell.execute_reply": "2025-06-25T01:45:32.670259Z",
     "shell.execute_reply.started": "2025-06-25T01:39:34.019422Z"
    },
    "trusted": true
   },
   "outputs": [
    {
     "data": {
      "application/vnd.jupyter.widget-view+json": {
       "model_id": "366a75fea1fc4c7a9c4925c42a4b546d",
       "version_major": 2,
       "version_minor": 0
      },
      "text/plain": [
       "config.json:   0%|          | 0.00/2.44k [00:00<?, ?B/s]"
      ]
     },
     "metadata": {},
     "output_type": "display_data"
    },
    {
     "data": {
      "application/vnd.jupyter.widget-view+json": {
       "model_id": "cae1b40ce1fb491286f2c951fd9337c2",
       "version_major": 2,
       "version_minor": 0
      },
      "text/plain": [
       "configuration_florence2.py:   0%|          | 0.00/15.1k [00:00<?, ?B/s]"
      ]
     },
     "metadata": {},
     "output_type": "display_data"
    },
    {
     "name": "stderr",
     "output_type": "stream",
     "text": [
      "A new version of the following files was downloaded from https://huggingface.co/microsoft/Florence-2-large:\n",
      "- configuration_florence2.py\n",
      ". Make sure to double-check they do not contain any added malicious code. To avoid downloading new versions of the code file, you can pin a revision.\n"
     ]
    },
    {
     "data": {
      "application/vnd.jupyter.widget-view+json": {
       "model_id": "b9216918e242496ab8b75abc9f85f441",
       "version_major": 2,
       "version_minor": 0
      },
      "text/plain": [
       "modeling_florence2.py:   0%|          | 0.00/127k [00:00<?, ?B/s]"
      ]
     },
     "metadata": {},
     "output_type": "display_data"
    },
    {
     "name": "stderr",
     "output_type": "stream",
     "text": [
      "A new version of the following files was downloaded from https://huggingface.co/microsoft/Florence-2-large:\n",
      "- modeling_florence2.py\n",
      ". Make sure to double-check they do not contain any added malicious code. To avoid downloading new versions of the code file, you can pin a revision.\n",
      "/usr/local/lib/python3.11/dist-packages/timm/models/layers/__init__.py:48: FutureWarning: Importing from timm.models.layers is deprecated, please import via timm.layers\n",
      "  warnings.warn(f\"Importing from {__name__} is deprecated, please import via timm.layers\", FutureWarning)\n"
     ]
    },
    {
     "data": {
      "application/vnd.jupyter.widget-view+json": {
       "model_id": "a37228385bf24909b0e00bad5f645935",
       "version_major": 2,
       "version_minor": 0
      },
      "text/plain": [
       "pytorch_model.bin:   0%|          | 0.00/1.56G [00:00<?, ?B/s]"
      ]
     },
     "metadata": {},
     "output_type": "display_data"
    },
    {
     "name": "stderr",
     "output_type": "stream",
     "text": [
      "Error during conversion: ChunkedEncodingError(ProtocolError('Response ended prematurely'))\n"
     ]
    },
    {
     "data": {
      "application/vnd.jupyter.widget-view+json": {
       "model_id": "6b0e75e69ac64144a5de88f23fb4429c",
       "version_major": 2,
       "version_minor": 0
      },
      "text/plain": [
       "generation_config.json:   0%|          | 0.00/51.0 [00:00<?, ?B/s]"
      ]
     },
     "metadata": {},
     "output_type": "display_data"
    },
    {
     "data": {
      "application/vnd.jupyter.widget-view+json": {
       "model_id": "5ed67a4ea35d4345b7385ba9c0dd8fce",
       "version_major": 2,
       "version_minor": 0
      },
      "text/plain": [
       "preprocessor_config.json:   0%|          | 0.00/806 [00:00<?, ?B/s]"
      ]
     },
     "metadata": {},
     "output_type": "display_data"
    },
    {
     "data": {
      "application/vnd.jupyter.widget-view+json": {
       "model_id": "3f4b6ca8b8304233b56d0ea782851693",
       "version_major": 2,
       "version_minor": 0
      },
      "text/plain": [
       "processing_florence2.py:   0%|          | 0.00/48.7k [00:00<?, ?B/s]"
      ]
     },
     "metadata": {},
     "output_type": "display_data"
    },
    {
     "name": "stderr",
     "output_type": "stream",
     "text": [
      "A new version of the following files was downloaded from https://huggingface.co/microsoft/Florence-2-large:\n",
      "- processing_florence2.py\n",
      ". Make sure to double-check they do not contain any added malicious code. To avoid downloading new versions of the code file, you can pin a revision.\n"
     ]
    },
    {
     "data": {
      "application/vnd.jupyter.widget-view+json": {
       "model_id": "a64e8b23e6ac4cb6a6ebd25ef629034f",
       "version_major": 2,
       "version_minor": 0
      },
      "text/plain": [
       "tokenizer_config.json:   0%|          | 0.00/34.0 [00:00<?, ?B/s]"
      ]
     },
     "metadata": {},
     "output_type": "display_data"
    },
    {
     "data": {
      "application/vnd.jupyter.widget-view+json": {
       "model_id": "f60670beb2654c58b6322be52cc78af1",
       "version_major": 2,
       "version_minor": 0
      },
      "text/plain": [
       "vocab.json:   0%|          | 0.00/1.10M [00:00<?, ?B/s]"
      ]
     },
     "metadata": {},
     "output_type": "display_data"
    },
    {
     "data": {
      "application/vnd.jupyter.widget-view+json": {
       "model_id": "d9413423054643449f4a917f6fe7c599",
       "version_major": 2,
       "version_minor": 0
      },
      "text/plain": [
       "tokenizer.json:   0%|          | 0.00/1.36M [00:00<?, ?B/s]"
      ]
     },
     "metadata": {},
     "output_type": "display_data"
    }
   ],
   "source": [
    "# Модель для генерации описаний\n",
    "model_id = 'microsoft/Florence-2-large'\n",
    "gen_model = AutoModelForCausalLM.from_pretrained(model_id, trust_remote_code=True, torch_dtype='auto').eval().to(device)\n",
    "gen_processor = AutoProcessor.from_pretrained(model_id, trust_remote_code=True)"
   ]
  },
  {
   "cell_type": "code",
   "execution_count": 6,
   "metadata": {
    "execution": {
     "iopub.execute_input": "2025-06-25T02:34:04.003280Z",
     "iopub.status.busy": "2025-06-25T02:34:04.002667Z",
     "iopub.status.idle": "2025-06-25T02:34:04.006700Z",
     "shell.execute_reply": "2025-06-25T02:34:04.006159Z",
     "shell.execute_reply.started": "2025-06-25T02:34:04.003257Z"
    },
    "trusted": true
   },
   "outputs": [],
   "source": [
    "DATASETS = {\n",
    "    \"coco\": \n",
    "        {\"name\": \"coco_part\", \"dataset_dir\": \"/kaggle/input/part-of-coco-dataset/\"},\n",
    "    'anime': \n",
    "        {\"name\": \"anime\", \"dataset_dir\": \"/kaggle/input/anime-vs-cartoon-vs-human/Data/anime\"},\n",
    "    'cartoon':\n",
    "        {\"name\": \"cartoon\", \"dataset_dir\": \"/kaggle/input/anime-vs-cartoon-vs-human/Data/cartoon\"},\n",
    "    'human':\n",
    "        {\"name\": \"human\", \"dataset_dir\": \"/kaggle/input/anime-vs-cartoon-vs-human/Data/human\"}\n",
    "}\n",
    "\n",
    "SAMPLES_PER_DATASET = 100"
   ]
  },
  {
   "cell_type": "code",
   "execution_count": 7,
   "metadata": {
    "execution": {
     "iopub.execute_input": "2025-06-25T02:34:04.932024Z",
     "iopub.status.busy": "2025-06-25T02:34:04.931419Z",
     "iopub.status.idle": "2025-06-25T02:34:04.936494Z",
     "shell.execute_reply": "2025-06-25T02:34:04.935842Z",
     "shell.execute_reply.started": "2025-06-25T02:34:04.932002Z"
    },
    "trusted": true
   },
   "outputs": [],
   "source": [
    "def generate_caption(image):\n",
    "    prompt = \"<CAPTION>\"\n",
    "    inputs = gen_processor(text=prompt, images=image, return_tensors=\"pt\").to(device)\n",
    "\n",
    "    # Если вход содержит pixel_values, приводим их к нужному типу (только их)\n",
    "    if 'pixel_values' in inputs:\n",
    "        inputs['pixel_values'] = inputs['pixel_values'].to(dtype=next(gen_model.parameters()).dtype)\n",
    "\n",
    "    with torch.no_grad():\n",
    "        outputs = gen_model.generate(\n",
    "            input_ids=inputs[\"input_ids\"],\n",
    "            pixel_values=inputs[\"pixel_values\"],\n",
    "            max_new_tokens=300,\n",
    "            num_beams=1,\n",
    "            do_sample=False,\n",
    "            early_stopping=True\n",
    "        )\n",
    "\n",
    "    caption = gen_processor.batch_decode(outputs, skip_special_tokens=True)[0]\n",
    "    return caption"
   ]
  },
  {
   "cell_type": "code",
   "execution_count": 8,
   "metadata": {
    "execution": {
     "iopub.execute_input": "2025-06-25T02:34:06.473835Z",
     "iopub.status.busy": "2025-06-25T02:34:06.473177Z",
     "iopub.status.idle": "2025-06-25T02:34:06.481454Z",
     "shell.execute_reply": "2025-06-25T02:34:06.480836Z",
     "shell.execute_reply.started": "2025-06-25T02:34:06.473778Z"
    },
    "trusted": true
   },
   "outputs": [],
   "source": [
    "def compute_clip_score_with_generated(model, clip_preprocess, dataset_dirs, dataset_name=\"custom_dataset\"):\n",
    "    \"\"\"\n",
    "    dataset_dirs: str или dict\n",
    "    Если str — обрабатывается как один датасет\n",
    "    Если dict — ключи это подкатегории, значения — пути к папкам\n",
    "    \"\"\"\n",
    "\n",
    "    if isinstance(dataset_dirs, str):\n",
    "        # Обычный датасет (без категорий)\n",
    "        datasets_to_process = {dataset_name: dataset_dirs}\n",
    "    else:\n",
    "        # Датасет с категориями (например, anime/cartoon/human)\n",
    "        datasets_to_process = dataset_dirs\n",
    "\n",
    "    print(f\"\\nEvaluating CLIP Score on {dataset_name} with generated captions...\")\n",
    "\n",
    "    scores = []\n",
    "    generation_times = []\n",
    "\n",
    "    samples_per_category = SAMPLES_PER_DATASET\n",
    "\n",
    "    for category, path in datasets_to_process.items():\n",
    "        print(f\"\\nProcessing category: {category}\")\n",
    "\n",
    "        dataset = load_dataset('imagefolder', data_dir=path)\n",
    "        dataset = dataset['train']\n",
    "        dataset = dataset.shuffle(seed=42).select(range(min(samples_per_category, len(dataset))))\n",
    "\n",
    "        image_column = \"image\" if \"image\" in dataset.features else \"IMG\"\n",
    "\n",
    "        for example in tqdm(dataset, desc=f\"Processing {category}\"):\n",
    "            image = example[image_column]\n",
    "            if isinstance(image, str):\n",
    "                image = Image.open(image).convert(\"RGB\")\n",
    "            else:\n",
    "                image = image.convert(\"RGB\")\n",
    "\n",
    "            # Засекаем время генерации\n",
    "            start_time = time.time()\n",
    "            generated_caption = generate_caption(image)\n",
    "            end_time = time.time()\n",
    "\n",
    "            generation_times.append(end_time - start_time)\n",
    "\n",
    "            image_input = clip_preprocess(image).unsqueeze(0).to(device)\n",
    "            text_input = clip.tokenize([generated_caption]).to(device)\n",
    "\n",
    "            with torch.no_grad():\n",
    "                image_features = model.encode_image(image_input)\n",
    "                text_features = model.encode_text(text_input)\n",
    "\n",
    "                image_features /= image_features.norm(dim=-1, keepdim=True)\n",
    "                text_features /= text_features.norm(dim=-1, keepdim=True)\n",
    "\n",
    "                similarity = (image_features @ text_features.T).item()\n",
    "                scores.append(similarity)\n",
    "\n",
    "    average_score = np.mean(scores)\n",
    "    average_time = np.mean(generation_times)\n",
    "\n",
    "    print(f\"\\nCLIP Score on {dataset_name} (generated captions): {average_score:.4f}\")\n",
    "    print(f\"Average caption generation time: {average_time:.4f} seconds\")\n",
    "\n",
    "    return average_score, average_time"
   ]
  },
  {
   "cell_type": "code",
   "execution_count": 34,
   "metadata": {
    "execution": {
     "iopub.execute_input": "2025-06-25T02:23:21.829678Z",
     "iopub.status.busy": "2025-06-25T02:23:21.829398Z",
     "iopub.status.idle": "2025-06-25T02:26:57.723535Z",
     "shell.execute_reply": "2025-06-25T02:26:57.722788Z",
     "shell.execute_reply.started": "2025-06-25T02:23:21.829657Z"
    },
    "trusted": true
   },
   "outputs": [
    {
     "name": "stdout",
     "output_type": "stream",
     "text": [
      "\n",
      "Evaluating CLIP Score on coco_part with generated captions...\n",
      "\n",
      "Processing category: coco_part\n"
     ]
    },
    {
     "data": {
      "application/vnd.jupyter.widget-view+json": {
       "model_id": "44c2de49540e474cb4bed7c1886631fc",
       "version_major": 2,
       "version_minor": 0
      },
      "text/plain": [
       "Resolving data files:   0%|          | 0/512 [00:00<?, ?it/s]"
      ]
     },
     "metadata": {},
     "output_type": "display_data"
    },
    {
     "name": "stderr",
     "output_type": "stream",
     "text": [
      "Processing coco_part: 100%|██████████| 100/100 [00:52<00:00,  1.90it/s]\n"
     ]
    },
    {
     "name": "stdout",
     "output_type": "stream",
     "text": [
      "\n",
      "CLIP Score on coco_part (generated captions): 0.3140\n",
      "Average caption generation time: 0.4986 seconds\n",
      "\n",
      "Evaluating CLIP Score on anime with generated captions...\n",
      "\n",
      "Processing category: anime\n"
     ]
    },
    {
     "data": {
      "application/vnd.jupyter.widget-view+json": {
       "model_id": "0bb205caa3f04459847599b9cbd1e5a6",
       "version_major": 2,
       "version_minor": 0
      },
      "text/plain": [
       "Resolving data files:   0%|          | 0/3004 [00:00<?, ?it/s]"
      ]
     },
     "metadata": {},
     "output_type": "display_data"
    },
    {
     "name": "stderr",
     "output_type": "stream",
     "text": [
      "Processing anime: 100%|██████████| 100/100 [00:47<00:00,  2.08it/s]\n"
     ]
    },
    {
     "name": "stdout",
     "output_type": "stream",
     "text": [
      "\n",
      "CLIP Score on anime (generated captions): 0.2587\n",
      "Average caption generation time: 0.4583 seconds\n",
      "\n",
      "Evaluating CLIP Score on cartoon with generated captions...\n",
      "\n",
      "Processing category: cartoon\n"
     ]
    },
    {
     "data": {
      "application/vnd.jupyter.widget-view+json": {
       "model_id": "58facea9ff034f45a2a9dd019edf29a8",
       "version_major": 2,
       "version_minor": 0
      },
      "text/plain": [
       "Resolving data files:   0%|          | 0/2913 [00:00<?, ?it/s]"
      ]
     },
     "metadata": {},
     "output_type": "display_data"
    },
    {
     "name": "stderr",
     "output_type": "stream",
     "text": [
      "Processing cartoon: 100%|██████████| 100/100 [00:49<00:00,  2.01it/s]\n"
     ]
    },
    {
     "name": "stdout",
     "output_type": "stream",
     "text": [
      "\n",
      "CLIP Score on cartoon (generated captions): 0.3215\n",
      "Average caption generation time: 0.4728 seconds\n",
      "\n",
      "Evaluating CLIP Score on human with generated captions...\n",
      "\n",
      "Processing category: human\n"
     ]
    },
    {
     "data": {
      "application/vnd.jupyter.widget-view+json": {
       "model_id": "d4835487b3f54bc2b36d87d03049542e",
       "version_major": 2,
       "version_minor": 0
      },
      "text/plain": [
       "Resolving data files:   0%|          | 0/3000 [00:00<?, ?it/s]"
      ]
     },
     "metadata": {},
     "output_type": "display_data"
    },
    {
     "name": "stderr",
     "output_type": "stream",
     "text": [
      "Processing human: 100%|██████████| 100/100 [00:56<00:00,  1.79it/s]"
     ]
    },
    {
     "name": "stdout",
     "output_type": "stream",
     "text": [
      "\n",
      "CLIP Score on human (generated captions): 0.2930\n",
      "Average caption generation time: 0.4932 seconds\n",
      "\n",
      "Final CLIP Scores:\n",
      "CLIP Score on dataset coco: 0.3140\n",
      "Average time per image on dataset coco: 0.4986\n",
      "CLIP Score on dataset anime: 0.2587\n",
      "Average time per image on dataset anime: 0.4583\n",
      "CLIP Score on dataset cartoon: 0.3215\n",
      "Average time per image on dataset cartoon: 0.4728\n",
      "CLIP Score on dataset human: 0.2930\n",
      "Average time per image on dataset human: 0.4932\n"
     ]
    },
    {
     "name": "stderr",
     "output_type": "stream",
     "text": [
      "\n"
     ]
    }
   ],
   "source": [
    "if __name__ == \"__main__\":\n",
    "    results = {}\n",
    "    for dataset_name, dataset_info in DATASETS.items():\n",
    "        score, average_time = compute_clip_score_with_generated(clip_model, clip_preprocess, dataset_dirs=dataset_info['dataset_dir'], dataset_name=dataset_info['name'])\n",
    "        results[dataset_name] = (score, average_time)\n",
    "\n",
    "    print(\"\\nFinal CLIP Scores:\")\n",
    "    for dataset_name, result in results.items():\n",
    "        print(f\"CLIP Score on dataset {dataset_name}: {result[0]:.4f}\")\n",
    "        print(f'Average time per image on dataset {dataset_name}: {result[1]:.4f}')"
   ]
  },
  {
   "cell_type": "markdown",
   "metadata": {},
   "source": [
    "## Blip-Large"
   ]
  },
  {
   "cell_type": "code",
   "execution_count": 9,
   "metadata": {
    "execution": {
     "iopub.execute_input": "2025-06-25T02:34:11.287825Z",
     "iopub.status.busy": "2025-06-25T02:34:11.287528Z",
     "iopub.status.idle": "2025-06-25T02:34:20.598410Z",
     "shell.execute_reply": "2025-06-25T02:34:20.597746Z",
     "shell.execute_reply.started": "2025-06-25T02:34:11.287804Z"
    },
    "trusted": true
   },
   "outputs": [
    {
     "name": "stderr",
     "output_type": "stream",
     "text": [
      "Using a slow image processor as `use_fast` is unset and a slow processor was saved with this model. `use_fast=True` will be the default behavior in v4.52, even if the model was saved with a slow processor. This will result in minor differences in outputs. You'll still be able to use a slow processor with `use_fast=False`.\n"
     ]
    },
    {
     "data": {
      "application/vnd.jupyter.widget-view+json": {
       "model_id": "d8b91422c2e44733999d67e0aa00b746",
       "version_major": 2,
       "version_minor": 0
      },
      "text/plain": [
       "preprocessor_config.json:   0%|          | 0.00/445 [00:00<?, ?B/s]"
      ]
     },
     "metadata": {},
     "output_type": "display_data"
    },
    {
     "data": {
      "application/vnd.jupyter.widget-view+json": {
       "model_id": "523b114eb6da4b92be7be872025f5aa0",
       "version_major": 2,
       "version_minor": 0
      },
      "text/plain": [
       "tokenizer_config.json:   0%|          | 0.00/527 [00:00<?, ?B/s]"
      ]
     },
     "metadata": {},
     "output_type": "display_data"
    },
    {
     "data": {
      "application/vnd.jupyter.widget-view+json": {
       "model_id": "ac4203b9346042159e18a5f6caef70dd",
       "version_major": 2,
       "version_minor": 0
      },
      "text/plain": [
       "vocab.txt:   0%|          | 0.00/232k [00:00<?, ?B/s]"
      ]
     },
     "metadata": {},
     "output_type": "display_data"
    },
    {
     "data": {
      "application/vnd.jupyter.widget-view+json": {
       "model_id": "c676176d053044089557b8a29bc496e6",
       "version_major": 2,
       "version_minor": 0
      },
      "text/plain": [
       "tokenizer.json:   0%|          | 0.00/711k [00:00<?, ?B/s]"
      ]
     },
     "metadata": {},
     "output_type": "display_data"
    },
    {
     "data": {
      "application/vnd.jupyter.widget-view+json": {
       "model_id": "81a7961188a244f687e5dcbd98930d1b",
       "version_major": 2,
       "version_minor": 0
      },
      "text/plain": [
       "special_tokens_map.json:   0%|          | 0.00/125 [00:00<?, ?B/s]"
      ]
     },
     "metadata": {},
     "output_type": "display_data"
    },
    {
     "data": {
      "application/vnd.jupyter.widget-view+json": {
       "model_id": "9f4d6a5fd82f47c2ba660d93aba4059a",
       "version_major": 2,
       "version_minor": 0
      },
      "text/plain": [
       "config.json:   0%|          | 0.00/4.60k [00:00<?, ?B/s]"
      ]
     },
     "metadata": {},
     "output_type": "display_data"
    },
    {
     "data": {
      "application/vnd.jupyter.widget-view+json": {
       "model_id": "965025ef6c7d4f67a67677fc5d96b0bd",
       "version_major": 2,
       "version_minor": 0
      },
      "text/plain": [
       "model.safetensors:   0%|          | 0.00/1.88G [00:00<?, ?B/s]"
      ]
     },
     "metadata": {},
     "output_type": "display_data"
    }
   ],
   "source": [
    "import requests\n",
    "from PIL import Image\n",
    "from transformers import BlipProcessor, BlipForConditionalGeneration\n",
    "\n",
    "gen_processor = BlipProcessor.from_pretrained(\"Salesforce/blip-image-captioning-large\")\n",
    "gen_model = BlipForConditionalGeneration.from_pretrained(\"Salesforce/blip-image-captioning-large\").to(\"cuda\")\n"
   ]
  },
  {
   "cell_type": "code",
   "execution_count": 12,
   "metadata": {
    "execution": {
     "iopub.execute_input": "2025-06-25T02:34:43.698291Z",
     "iopub.status.busy": "2025-06-25T02:34:43.697508Z",
     "iopub.status.idle": "2025-06-25T02:34:43.701761Z",
     "shell.execute_reply": "2025-06-25T02:34:43.701000Z",
     "shell.execute_reply.started": "2025-06-25T02:34:43.698266Z"
    },
    "trusted": true
   },
   "outputs": [],
   "source": [
    "def generate_caption(image):\n",
    "    # unconditional image captioning\n",
    "    inputs = gen_processor(image, return_tensors=\"pt\").to(\"cuda\")\n",
    "    \n",
    "    out = gen_model.generate(**inputs)\n",
    "    caption = gen_processor.decode(out[0], skip_special_tokens=True)\n",
    "\n",
    "    return caption"
   ]
  },
  {
   "cell_type": "code",
   "execution_count": 13,
   "metadata": {
    "execution": {
     "iopub.execute_input": "2025-06-25T02:34:44.210610Z",
     "iopub.status.busy": "2025-06-25T02:34:44.210024Z",
     "iopub.status.idle": "2025-06-25T02:37:21.621336Z",
     "shell.execute_reply": "2025-06-25T02:37:21.620695Z",
     "shell.execute_reply.started": "2025-06-25T02:34:44.210590Z"
    },
    "trusted": true
   },
   "outputs": [
    {
     "name": "stdout",
     "output_type": "stream",
     "text": [
      "\n",
      "Evaluating CLIP Score on coco_part with generated captions...\n",
      "\n",
      "Processing category: coco_part\n"
     ]
    },
    {
     "data": {
      "application/vnd.jupyter.widget-view+json": {
       "model_id": "1d808d4b49664d3296bdfe587f5450d5",
       "version_major": 2,
       "version_minor": 0
      },
      "text/plain": [
       "Resolving data files:   0%|          | 0/512 [00:00<?, ?it/s]"
      ]
     },
     "metadata": {},
     "output_type": "display_data"
    },
    {
     "name": "stderr",
     "output_type": "stream",
     "text": [
      "Processing coco_part: 100%|██████████| 100/100 [00:36<00:00,  2.78it/s]\n"
     ]
    },
    {
     "name": "stdout",
     "output_type": "stream",
     "text": [
      "\n",
      "CLIP Score on coco_part (generated captions): 0.2937\n",
      "Average caption generation time: 0.3245 seconds\n",
      "\n",
      "Evaluating CLIP Score on anime with generated captions...\n",
      "\n",
      "Processing category: anime\n"
     ]
    },
    {
     "data": {
      "application/vnd.jupyter.widget-view+json": {
       "model_id": "2eb914ec51814cf497700dda38df76bd",
       "version_major": 2,
       "version_minor": 0
      },
      "text/plain": [
       "Resolving data files:   0%|          | 0/3004 [00:00<?, ?it/s]"
      ]
     },
     "metadata": {},
     "output_type": "display_data"
    },
    {
     "data": {
      "application/vnd.jupyter.widget-view+json": {
       "model_id": "eb88068d98f84a31b45034877f476c94",
       "version_major": 2,
       "version_minor": 0
      },
      "text/plain": [
       "Downloading data:   0%|          | 0/3004 [00:00<?, ?files/s]"
      ]
     },
     "metadata": {},
     "output_type": "display_data"
    },
    {
     "data": {
      "application/vnd.jupyter.widget-view+json": {
       "model_id": "273d54ece5bf45c3818cc750376e53c4",
       "version_major": 2,
       "version_minor": 0
      },
      "text/plain": [
       "Generating train split: 0 examples [00:00, ? examples/s]"
      ]
     },
     "metadata": {},
     "output_type": "display_data"
    },
    {
     "name": "stderr",
     "output_type": "stream",
     "text": [
      "Processing anime: 100%|██████████| 100/100 [00:33<00:00,  2.98it/s]\n"
     ]
    },
    {
     "name": "stdout",
     "output_type": "stream",
     "text": [
      "\n",
      "CLIP Score on anime (generated captions): 0.2561\n",
      "Average caption generation time: 0.3105 seconds\n",
      "\n",
      "Evaluating CLIP Score on cartoon with generated captions...\n",
      "\n",
      "Processing category: cartoon\n"
     ]
    },
    {
     "data": {
      "application/vnd.jupyter.widget-view+json": {
       "model_id": "b53a4707d82648bc87bfe98788c39867",
       "version_major": 2,
       "version_minor": 0
      },
      "text/plain": [
       "Resolving data files:   0%|          | 0/2913 [00:00<?, ?it/s]"
      ]
     },
     "metadata": {},
     "output_type": "display_data"
    },
    {
     "data": {
      "application/vnd.jupyter.widget-view+json": {
       "model_id": "4c3cfcc765be46f7acdb59a2271ab185",
       "version_major": 2,
       "version_minor": 0
      },
      "text/plain": [
       "Downloading data:   0%|          | 0/2913 [00:00<?, ?files/s]"
      ]
     },
     "metadata": {},
     "output_type": "display_data"
    },
    {
     "data": {
      "application/vnd.jupyter.widget-view+json": {
       "model_id": "e715e6814f604f2aa24a36ce7a4ad8c7",
       "version_major": 2,
       "version_minor": 0
      },
      "text/plain": [
       "Generating train split: 0 examples [00:00, ? examples/s]"
      ]
     },
     "metadata": {},
     "output_type": "display_data"
    },
    {
     "name": "stderr",
     "output_type": "stream",
     "text": [
      "Processing cartoon: 100%|██████████| 100/100 [00:33<00:00,  3.02it/s]\n"
     ]
    },
    {
     "name": "stdout",
     "output_type": "stream",
     "text": [
      "\n",
      "CLIP Score on cartoon (generated captions): 0.2974\n",
      "Average caption generation time: 0.3036 seconds\n",
      "\n",
      "Evaluating CLIP Score on human with generated captions...\n",
      "\n",
      "Processing category: human\n"
     ]
    },
    {
     "data": {
      "application/vnd.jupyter.widget-view+json": {
       "model_id": "b5c4af4c6ab0467eb466ec99e604528e",
       "version_major": 2,
       "version_minor": 0
      },
      "text/plain": [
       "Resolving data files:   0%|          | 0/3000 [00:00<?, ?it/s]"
      ]
     },
     "metadata": {},
     "output_type": "display_data"
    },
    {
     "data": {
      "application/vnd.jupyter.widget-view+json": {
       "model_id": "23bcfc2aaaea40689e7e80cbd4f2d69c",
       "version_major": 2,
       "version_minor": 0
      },
      "text/plain": [
       "Downloading data:   0%|          | 0/3000 [00:00<?, ?files/s]"
      ]
     },
     "metadata": {},
     "output_type": "display_data"
    },
    {
     "data": {
      "application/vnd.jupyter.widget-view+json": {
       "model_id": "99569f4282764f8a8d1dbf2c8ad15e22",
       "version_major": 2,
       "version_minor": 0
      },
      "text/plain": [
       "Generating train split: 0 examples [00:00, ? examples/s]"
      ]
     },
     "metadata": {},
     "output_type": "display_data"
    },
    {
     "name": "stderr",
     "output_type": "stream",
     "text": [
      "Processing human: 100%|██████████| 100/100 [00:40<00:00,  2.46it/s]"
     ]
    },
    {
     "name": "stdout",
     "output_type": "stream",
     "text": [
      "\n",
      "CLIP Score on human (generated captions): 0.2755\n",
      "Average caption generation time: 0.3208 seconds\n",
      "\n",
      "Final CLIP Scores:\n",
      "CLIP Score on dataset coco: 0.2937\n",
      "Average time per image on dataset coco: 0.3245\n",
      "CLIP Score on dataset anime: 0.2561\n",
      "Average time per image on dataset anime: 0.3105\n",
      "CLIP Score on dataset cartoon: 0.2974\n",
      "Average time per image on dataset cartoon: 0.3036\n",
      "CLIP Score on dataset human: 0.2755\n",
      "Average time per image on dataset human: 0.3208\n"
     ]
    },
    {
     "name": "stderr",
     "output_type": "stream",
     "text": [
      "\n"
     ]
    }
   ],
   "source": [
    "if __name__ == \"__main__\":\n",
    "    results = {}\n",
    "    for dataset_name, dataset_info in DATASETS.items():\n",
    "        score, average_time = compute_clip_score_with_generated(clip_model, clip_preprocess, dataset_dirs=dataset_info['dataset_dir'], dataset_name=dataset_info['name'])\n",
    "        results[dataset_name] = (score, average_time)\n",
    "\n",
    "    print(\"\\nFinal CLIP Scores:\")\n",
    "    for dataset_name, result in results.items():\n",
    "        print(f\"CLIP Score on dataset {dataset_name}: {result[0]:.4f}\")\n",
    "        print(f'Average time per image on dataset {dataset_name}: {result[1]:.4f}')"
   ]
  }
 ],
 "metadata": {
  "kaggle": {
   "accelerator": "gpu",
   "dataSources": [
    {
     "databundleVersionId": 4705492,
     "datasetId": 2697895,
     "sourceId": 4643558,
     "sourceType": "datasetVersion"
    },
    {
     "databundleVersionId": 12824053,
     "datasetId": 7734971,
     "sourceId": 12274361,
     "sourceType": "datasetVersion"
    }
   ],
   "dockerImageVersionId": 31041,
   "isGpuEnabled": true,
   "isInternetEnabled": true,
   "language": "python",
   "sourceType": "notebook"
  },
  "kernelspec": {
   "display_name": "venv",
   "language": "python",
   "name": "python3"
  },
  "language_info": {
   "codemirror_mode": {
    "name": "ipython",
    "version": 3
   },
   "file_extension": ".py",
   "mimetype": "text/x-python",
   "name": "python",
   "nbconvert_exporter": "python",
   "pygments_lexer": "ipython3",
   "version": "3.10.0"
  }
 },
 "nbformat": 4,
 "nbformat_minor": 4
}
